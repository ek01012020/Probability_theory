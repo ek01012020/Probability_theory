{
 "cells": [
  {
   "cell_type": "markdown",
   "metadata": {},
   "source": [
    "## Курсовая работа"
   ]
  },
  {
   "cell_type": "markdown",
   "metadata": {},
   "source": [
    "Проверим предположение, что в период кризиса уровень преступности не равен уровню преступности обычного времени с уровнем значимости a = 0.05.  \n",
    "За основу возьмем опубликованный на сайте kaggle.com датасет crime, содержащий информацию о количестве преступлений совершенных с 2003 по 2020 в России.  \n",
    "В качестве периодов кризиса выберем месяцы из заданного диапазона дат, в которые курс доллара был наиболее нестабилен. "
   ]
  },
  {
   "cell_type": "code",
   "execution_count": 1,
   "metadata": {},
   "outputs": [],
   "source": [
    "import datetime\n",
    "import numpy as np\n",
    "import pandas as pd\n",
    "from IPython.display import Image"
   ]
  },
  {
   "cell_type": "code",
   "execution_count": 2,
   "metadata": {},
   "outputs": [
    {
     "data": {
      "text/html": [
       "<div>\n",
       "<style scoped>\n",
       "    .dataframe tbody tr th:only-of-type {\n",
       "        vertical-align: middle;\n",
       "    }\n",
       "\n",
       "    .dataframe tbody tr th {\n",
       "        vertical-align: top;\n",
       "    }\n",
       "\n",
       "    .dataframe thead th {\n",
       "        text-align: right;\n",
       "    }\n",
       "</style>\n",
       "<table border=\"1\" class=\"dataframe\">\n",
       "  <thead>\n",
       "    <tr style=\"text-align: right;\">\n",
       "      <th></th>\n",
       "      <th>month</th>\n",
       "      <th>Total_crimes</th>\n",
       "      <th>Serious</th>\n",
       "      <th>Huge_damage</th>\n",
       "      <th>Ecological</th>\n",
       "      <th>Terrorism</th>\n",
       "      <th>Extremism</th>\n",
       "      <th>Murder</th>\n",
       "      <th>Harm_to_health</th>\n",
       "      <th>Rape</th>\n",
       "      <th>Theft</th>\n",
       "      <th>Vehicle_theft</th>\n",
       "      <th>Fraud_scam</th>\n",
       "      <th>Hooligan</th>\n",
       "      <th>Drugs</th>\n",
       "      <th>Weapons</th>\n",
       "    </tr>\n",
       "  </thead>\n",
       "  <tbody>\n",
       "    <tr>\n",
       "      <th>0</th>\n",
       "      <td>01.01.2003</td>\n",
       "      <td>214587.0</td>\n",
       "      <td>88203.0</td>\n",
       "      <td>20162.0</td>\n",
       "      <td>1216.0</td>\n",
       "      <td>630.0</td>\n",
       "      <td>13.0</td>\n",
       "      <td>2749.0</td>\n",
       "      <td>5559.0</td>\n",
       "      <td>574.0</td>\n",
       "      <td>81014.0</td>\n",
       "      <td>3549.0</td>\n",
       "      <td>7731.0</td>\n",
       "      <td>10560.0</td>\n",
       "      <td>16006.0</td>\n",
       "      <td>4661.0</td>\n",
       "    </tr>\n",
       "    <tr>\n",
       "      <th>1</th>\n",
       "      <td>01.02.2003</td>\n",
       "      <td>221928.0</td>\n",
       "      <td>88863.0</td>\n",
       "      <td>20889.0</td>\n",
       "      <td>1701.0</td>\n",
       "      <td>678.0</td>\n",
       "      <td>5.0</td>\n",
       "      <td>2444.0</td>\n",
       "      <td>4732.0</td>\n",
       "      <td>515.0</td>\n",
       "      <td>95970.0</td>\n",
       "      <td>3697.0</td>\n",
       "      <td>7607.0</td>\n",
       "      <td>10816.0</td>\n",
       "      <td>16839.0</td>\n",
       "      <td>5364.0</td>\n",
       "    </tr>\n",
       "    <tr>\n",
       "      <th>2</th>\n",
       "      <td>01.03.2003</td>\n",
       "      <td>248452.0</td>\n",
       "      <td>101349.0</td>\n",
       "      <td>24053.0</td>\n",
       "      <td>1817.0</td>\n",
       "      <td>809.0</td>\n",
       "      <td>10.0</td>\n",
       "      <td>2864.0</td>\n",
       "      <td>4851.0</td>\n",
       "      <td>560.0</td>\n",
       "      <td>79420.0</td>\n",
       "      <td>4327.0</td>\n",
       "      <td>9437.0</td>\n",
       "      <td>11813.0</td>\n",
       "      <td>20176.0</td>\n",
       "      <td>5938.0</td>\n",
       "    </tr>\n",
       "  </tbody>\n",
       "</table>\n",
       "</div>"
      ],
      "text/plain": [
       "        month  Total_crimes   Serious  Huge_damage  Ecological  Terrorism  \\\n",
       "0  01.01.2003      214587.0   88203.0      20162.0      1216.0      630.0   \n",
       "1  01.02.2003      221928.0   88863.0      20889.0      1701.0      678.0   \n",
       "2  01.03.2003      248452.0  101349.0      24053.0      1817.0      809.0   \n",
       "\n",
       "   Extremism  Murder  Harm_to_health   Rape    Theft  Vehicle_theft  \\\n",
       "0       13.0  2749.0          5559.0  574.0  81014.0         3549.0   \n",
       "1        5.0  2444.0          4732.0  515.0  95970.0         3697.0   \n",
       "2       10.0  2864.0          4851.0  560.0  79420.0         4327.0   \n",
       "\n",
       "   Fraud_scam  Hooligan    Drugs  Weapons  \n",
       "0      7731.0   10560.0  16006.0   4661.0  \n",
       "1      7607.0   10816.0  16839.0   5364.0  \n",
       "2      9437.0   11813.0  20176.0   5938.0  "
      ]
     },
     "execution_count": 2,
     "metadata": {},
     "output_type": "execute_result"
    }
   ],
   "source": [
    "data_crime = pd.read_csv('crime.csv')\n",
    "data_crime.head(3)"
   ]
  },
  {
   "cell_type": "code",
   "execution_count": 3,
   "metadata": {},
   "outputs": [
    {
     "data": {
      "text/html": [
       "<div>\n",
       "<style scoped>\n",
       "    .dataframe tbody tr th:only-of-type {\n",
       "        vertical-align: middle;\n",
       "    }\n",
       "\n",
       "    .dataframe tbody tr th {\n",
       "        vertical-align: top;\n",
       "    }\n",
       "\n",
       "    .dataframe thead th {\n",
       "        text-align: right;\n",
       "    }\n",
       "</style>\n",
       "<table border=\"1\" class=\"dataframe\">\n",
       "  <thead>\n",
       "    <tr style=\"text-align: right;\">\n",
       "      <th></th>\n",
       "      <th>month</th>\n",
       "      <th>Total_crimes</th>\n",
       "      <th>Serious</th>\n",
       "      <th>Huge_damage</th>\n",
       "      <th>Ecological</th>\n",
       "      <th>Terrorism</th>\n",
       "      <th>Extremism</th>\n",
       "      <th>Murder</th>\n",
       "      <th>Harm_to_health</th>\n",
       "      <th>Rape</th>\n",
       "      <th>Theft</th>\n",
       "      <th>Vehicle_theft</th>\n",
       "      <th>Fraud_scam</th>\n",
       "      <th>Hooligan</th>\n",
       "      <th>Drugs</th>\n",
       "      <th>Weapons</th>\n",
       "    </tr>\n",
       "  </thead>\n",
       "  <tbody>\n",
       "    <tr>\n",
       "      <th>0</th>\n",
       "      <td>2003.01.01</td>\n",
       "      <td>214587.0</td>\n",
       "      <td>88203.0</td>\n",
       "      <td>20162.0</td>\n",
       "      <td>1216.0</td>\n",
       "      <td>630.0</td>\n",
       "      <td>13.0</td>\n",
       "      <td>2749.0</td>\n",
       "      <td>5559.0</td>\n",
       "      <td>574.0</td>\n",
       "      <td>81014.0</td>\n",
       "      <td>3549.0</td>\n",
       "      <td>7731.0</td>\n",
       "      <td>10560.0</td>\n",
       "      <td>16006.0</td>\n",
       "      <td>4661.0</td>\n",
       "    </tr>\n",
       "    <tr>\n",
       "      <th>1</th>\n",
       "      <td>2003.02.01</td>\n",
       "      <td>221928.0</td>\n",
       "      <td>88863.0</td>\n",
       "      <td>20889.0</td>\n",
       "      <td>1701.0</td>\n",
       "      <td>678.0</td>\n",
       "      <td>5.0</td>\n",
       "      <td>2444.0</td>\n",
       "      <td>4732.0</td>\n",
       "      <td>515.0</td>\n",
       "      <td>95970.0</td>\n",
       "      <td>3697.0</td>\n",
       "      <td>7607.0</td>\n",
       "      <td>10816.0</td>\n",
       "      <td>16839.0</td>\n",
       "      <td>5364.0</td>\n",
       "    </tr>\n",
       "    <tr>\n",
       "      <th>2</th>\n",
       "      <td>2003.03.01</td>\n",
       "      <td>248452.0</td>\n",
       "      <td>101349.0</td>\n",
       "      <td>24053.0</td>\n",
       "      <td>1817.0</td>\n",
       "      <td>809.0</td>\n",
       "      <td>10.0</td>\n",
       "      <td>2864.0</td>\n",
       "      <td>4851.0</td>\n",
       "      <td>560.0</td>\n",
       "      <td>79420.0</td>\n",
       "      <td>4327.0</td>\n",
       "      <td>9437.0</td>\n",
       "      <td>11813.0</td>\n",
       "      <td>20176.0</td>\n",
       "      <td>5938.0</td>\n",
       "    </tr>\n",
       "  </tbody>\n",
       "</table>\n",
       "</div>"
      ],
      "text/plain": [
       "        month  Total_crimes   Serious  Huge_damage  Ecological  Terrorism  \\\n",
       "0  2003.01.01      214587.0   88203.0      20162.0      1216.0      630.0   \n",
       "1  2003.02.01      221928.0   88863.0      20889.0      1701.0      678.0   \n",
       "2  2003.03.01      248452.0  101349.0      24053.0      1817.0      809.0   \n",
       "\n",
       "   Extremism  Murder  Harm_to_health   Rape    Theft  Vehicle_theft  \\\n",
       "0       13.0  2749.0          5559.0  574.0  81014.0         3549.0   \n",
       "1        5.0  2444.0          4732.0  515.0  95970.0         3697.0   \n",
       "2       10.0  2864.0          4851.0  560.0  79420.0         4327.0   \n",
       "\n",
       "   Fraud_scam  Hooligan    Drugs  Weapons  \n",
       "0      7731.0   10560.0  16006.0   4661.0  \n",
       "1      7607.0   10816.0  16839.0   5364.0  \n",
       "2      9437.0   11813.0  20176.0   5938.0  "
      ]
     },
     "execution_count": 3,
     "metadata": {},
     "output_type": "execute_result"
    }
   ],
   "source": [
    "data_crime.month = [datetime.datetime.strptime(el, '%d.%m.%Y').strftime('%Y.%m.%d') for el in data_crime.month]\n",
    "data_crime.head(3)"
   ]
  },
  {
   "cell_type": "markdown",
   "metadata": {},
   "source": [
    "Посмотрим общую картину изменения курса доллара в заданном временном диапазоне."
   ]
  },
  {
   "cell_type": "code",
   "execution_count": 4,
   "metadata": {},
   "outputs": [
    {
     "data": {
      "image/png": "[encoded data removed]",
      "text/plain": [
       "<IPython.core.display.Image object>"
      ]
     },
     "execution_count": 4,
     "metadata": {},
     "output_type": "execute_result"
    }
   ],
   "source": [
    "Image('usd_2003_2019.png')"
   ]
  },
  {
   "cell_type": "markdown",
   "metadata": {},
   "source": [
    "Выделим два кризиса:  \n",
    "10.2008-10.2009  \n",
    "10.2014-03.2016"
   ]
  },
  {
   "cell_type": "code",
   "execution_count": 5,
   "metadata": {},
   "outputs": [],
   "source": [
    "list_cr_dates = [['2008.10.01','2009.10.01'], ['2014.10.01','2016.03.01']]"
   ]
  },
  {
   "cell_type": "code",
   "execution_count": 6,
   "metadata": {},
   "outputs": [
    {
     "data": {
      "text/html": [
       "<div>\n",
       "<style scoped>\n",
       "    .dataframe tbody tr th:only-of-type {\n",
       "        vertical-align: middle;\n",
       "    }\n",
       "\n",
       "    .dataframe tbody tr th {\n",
       "        vertical-align: top;\n",
       "    }\n",
       "\n",
       "    .dataframe thead th {\n",
       "        text-align: right;\n",
       "    }\n",
       "</style>\n",
       "<table border=\"1\" class=\"dataframe\">\n",
       "  <thead>\n",
       "    <tr style=\"text-align: right;\">\n",
       "      <th></th>\n",
       "      <th>month</th>\n",
       "      <th>Total_crimes</th>\n",
       "      <th>Serious</th>\n",
       "      <th>Huge_damage</th>\n",
       "      <th>Ecological</th>\n",
       "      <th>Terrorism</th>\n",
       "      <th>Extremism</th>\n",
       "      <th>Murder</th>\n",
       "      <th>Harm_to_health</th>\n",
       "      <th>Rape</th>\n",
       "      <th>Theft</th>\n",
       "      <th>Vehicle_theft</th>\n",
       "      <th>Fraud_scam</th>\n",
       "      <th>Hooligan</th>\n",
       "      <th>Drugs</th>\n",
       "      <th>Weapons</th>\n",
       "    </tr>\n",
       "  </thead>\n",
       "  <tbody>\n",
       "    <tr>\n",
       "      <th>0</th>\n",
       "      <td>2008.10.01</td>\n",
       "      <td>259452.0</td>\n",
       "      <td>67182.0</td>\n",
       "      <td>24320.0</td>\n",
       "      <td>3778.0</td>\n",
       "      <td>53.0</td>\n",
       "      <td>15.0</td>\n",
       "      <td>1593.0</td>\n",
       "      <td>3861.0</td>\n",
       "      <td>515.0</td>\n",
       "      <td>114595.0</td>\n",
       "      <td>5220.0</td>\n",
       "      <td>13164.0</td>\n",
       "      <td>1100.0</td>\n",
       "      <td>18539.0</td>\n",
       "      <td>2396.0</td>\n",
       "    </tr>\n",
       "    <tr>\n",
       "      <th>1</th>\n",
       "      <td>2008.11.01</td>\n",
       "      <td>231685.0</td>\n",
       "      <td>60709.0</td>\n",
       "      <td>21722.0</td>\n",
       "      <td>3254.0</td>\n",
       "      <td>36.0</td>\n",
       "      <td>26.0</td>\n",
       "      <td>1467.0</td>\n",
       "      <td>3631.0</td>\n",
       "      <td>473.0</td>\n",
       "      <td>96648.0</td>\n",
       "      <td>3886.0</td>\n",
       "      <td>11359.0</td>\n",
       "      <td>883.0</td>\n",
       "      <td>16858.0</td>\n",
       "      <td>1961.0</td>\n",
       "    </tr>\n",
       "    <tr>\n",
       "      <th>2</th>\n",
       "      <td>2008.12.01</td>\n",
       "      <td>247753.0</td>\n",
       "      <td>60852.0</td>\n",
       "      <td>21813.0</td>\n",
       "      <td>3108.0</td>\n",
       "      <td>44.0</td>\n",
       "      <td>39.0</td>\n",
       "      <td>1712.0</td>\n",
       "      <td>3709.0</td>\n",
       "      <td>464.0</td>\n",
       "      <td>106313.0</td>\n",
       "      <td>3840.0</td>\n",
       "      <td>11601.0</td>\n",
       "      <td>899.0</td>\n",
       "      <td>17020.0</td>\n",
       "      <td>2089.0</td>\n",
       "    </tr>\n",
       "  </tbody>\n",
       "</table>\n",
       "</div>"
      ],
      "text/plain": [
       "        month  Total_crimes  Serious  Huge_damage  Ecological  Terrorism  \\\n",
       "0  2008.10.01      259452.0  67182.0      24320.0      3778.0       53.0   \n",
       "1  2008.11.01      231685.0  60709.0      21722.0      3254.0       36.0   \n",
       "2  2008.12.01      247753.0  60852.0      21813.0      3108.0       44.0   \n",
       "\n",
       "   Extremism  Murder  Harm_to_health   Rape     Theft  Vehicle_theft  \\\n",
       "0       15.0  1593.0          3861.0  515.0  114595.0         5220.0   \n",
       "1       26.0  1467.0          3631.0  473.0   96648.0         3886.0   \n",
       "2       39.0  1712.0          3709.0  464.0  106313.0         3840.0   \n",
       "\n",
       "   Fraud_scam  Hooligan    Drugs  Weapons  \n",
       "0     13164.0    1100.0  18539.0   2396.0  \n",
       "1     11359.0     883.0  16858.0   1961.0  \n",
       "2     11601.0     899.0  17020.0   2089.0  "
      ]
     },
     "execution_count": 6,
     "metadata": {},
     "output_type": "execute_result"
    }
   ],
   "source": [
    "mask = ((data_crime.month >= list_cr_dates[0][0]) & (data_crime.month <= list_cr_dates[0][1])) | ((data_crime.month >= list_cr_dates[1][0]) & (data_crime.month <= list_cr_dates[1][1]))\n",
    "\n",
    "crisis = data_crime[mask].copy()\n",
    "crisis.reset_index(inplace = True, drop = True)\n",
    "crisis.head(3)"
   ]
  },
  {
   "cell_type": "code",
   "execution_count": 7,
   "metadata": {},
   "outputs": [
    {
     "data": {
      "text/html": [
       "<div>\n",
       "<style scoped>\n",
       "    .dataframe tbody tr th:only-of-type {\n",
       "        vertical-align: middle;\n",
       "    }\n",
       "\n",
       "    .dataframe tbody tr th {\n",
       "        vertical-align: top;\n",
       "    }\n",
       "\n",
       "    .dataframe thead th {\n",
       "        text-align: right;\n",
       "    }\n",
       "</style>\n",
       "<table border=\"1\" class=\"dataframe\">\n",
       "  <thead>\n",
       "    <tr style=\"text-align: right;\">\n",
       "      <th></th>\n",
       "      <th>month</th>\n",
       "      <th>Total_crimes</th>\n",
       "      <th>Serious</th>\n",
       "      <th>Huge_damage</th>\n",
       "      <th>Ecological</th>\n",
       "      <th>Terrorism</th>\n",
       "      <th>Extremism</th>\n",
       "      <th>Murder</th>\n",
       "      <th>Harm_to_health</th>\n",
       "      <th>Rape</th>\n",
       "      <th>Theft</th>\n",
       "      <th>Vehicle_theft</th>\n",
       "      <th>Fraud_scam</th>\n",
       "      <th>Hooligan</th>\n",
       "      <th>Drugs</th>\n",
       "      <th>Weapons</th>\n",
       "    </tr>\n",
       "  </thead>\n",
       "  <tbody>\n",
       "    <tr>\n",
       "      <th>169</th>\n",
       "      <td>2019.09.01</td>\n",
       "      <td>166208.0</td>\n",
       "      <td>38967.0</td>\n",
       "      <td>64283.0</td>\n",
       "      <td>1858.0</td>\n",
       "      <td>122.0</td>\n",
       "      <td>48.0</td>\n",
       "      <td>555.0</td>\n",
       "      <td>1570.0</td>\n",
       "      <td>306.0</td>\n",
       "      <td>67006.0</td>\n",
       "      <td>1903.0</td>\n",
       "      <td>21557.0</td>\n",
       "      <td>155.0</td>\n",
       "      <td>15100.0</td>\n",
       "      <td>1945.0</td>\n",
       "    </tr>\n",
       "    <tr>\n",
       "      <th>170</th>\n",
       "      <td>2019.10.01</td>\n",
       "      <td>199038.0</td>\n",
       "      <td>53319.0</td>\n",
       "      <td>81775.0</td>\n",
       "      <td>2322.0</td>\n",
       "      <td>111.0</td>\n",
       "      <td>52.0</td>\n",
       "      <td>668.0</td>\n",
       "      <td>1846.0</td>\n",
       "      <td>223.0</td>\n",
       "      <td>81053.0</td>\n",
       "      <td>2197.0</td>\n",
       "      <td>27980.0</td>\n",
       "      <td>180.0</td>\n",
       "      <td>20510.0</td>\n",
       "      <td>1744.0</td>\n",
       "    </tr>\n",
       "    <tr>\n",
       "      <th>171</th>\n",
       "      <td>2019.11.01</td>\n",
       "      <td>148104.0</td>\n",
       "      <td>31652.0</td>\n",
       "      <td>49623.0</td>\n",
       "      <td>1581.0</td>\n",
       "      <td>149.0</td>\n",
       "      <td>27.0</td>\n",
       "      <td>622.0</td>\n",
       "      <td>1467.0</td>\n",
       "      <td>246.0</td>\n",
       "      <td>57434.0</td>\n",
       "      <td>1344.0</td>\n",
       "      <td>19794.0</td>\n",
       "      <td>132.0</td>\n",
       "      <td>11067.0</td>\n",
       "      <td>1742.0</td>\n",
       "    </tr>\n",
       "    <tr>\n",
       "      <th>172</th>\n",
       "      <td>2019.12.01</td>\n",
       "      <td>155512.0</td>\n",
       "      <td>38470.0</td>\n",
       "      <td>60742.0</td>\n",
       "      <td>1526.0</td>\n",
       "      <td>164.0</td>\n",
       "      <td>52.0</td>\n",
       "      <td>534.0</td>\n",
       "      <td>1644.0</td>\n",
       "      <td>134.0</td>\n",
       "      <td>63327.0</td>\n",
       "      <td>1374.0</td>\n",
       "      <td>22588.0</td>\n",
       "      <td>155.0</td>\n",
       "      <td>13451.0</td>\n",
       "      <td>1754.0</td>\n",
       "    </tr>\n",
       "    <tr>\n",
       "      <th>173</th>\n",
       "      <td>2020.01.01</td>\n",
       "      <td>159172.0</td>\n",
       "      <td>44134.0</td>\n",
       "      <td>57020.0</td>\n",
       "      <td>1264.0</td>\n",
       "      <td>118.0</td>\n",
       "      <td>62.0</td>\n",
       "      <td>723.0</td>\n",
       "      <td>2075.0</td>\n",
       "      <td>296.0</td>\n",
       "      <td>53977.0</td>\n",
       "      <td>1092.0</td>\n",
       "      <td>22189.0</td>\n",
       "      <td>153.0</td>\n",
       "      <td>15463.0</td>\n",
       "      <td>2104.0</td>\n",
       "    </tr>\n",
       "  </tbody>\n",
       "</table>\n",
       "</div>"
      ],
      "text/plain": [
       "          month  Total_crimes  Serious  Huge_damage  Ecological  Terrorism  \\\n",
       "169  2019.09.01      166208.0  38967.0      64283.0      1858.0      122.0   \n",
       "170  2019.10.01      199038.0  53319.0      81775.0      2322.0      111.0   \n",
       "171  2019.11.01      148104.0  31652.0      49623.0      1581.0      149.0   \n",
       "172  2019.12.01      155512.0  38470.0      60742.0      1526.0      164.0   \n",
       "173  2020.01.01      159172.0  44134.0      57020.0      1264.0      118.0   \n",
       "\n",
       "     Extremism  Murder  Harm_to_health   Rape    Theft  Vehicle_theft  \\\n",
       "169       48.0   555.0          1570.0  306.0  67006.0         1903.0   \n",
       "170       52.0   668.0          1846.0  223.0  81053.0         2197.0   \n",
       "171       27.0   622.0          1467.0  246.0  57434.0         1344.0   \n",
       "172       52.0   534.0          1644.0  134.0  63327.0         1374.0   \n",
       "173       62.0   723.0          2075.0  296.0  53977.0         1092.0   \n",
       "\n",
       "     Fraud_scam  Hooligan    Drugs  Weapons  \n",
       "169     21557.0     155.0  15100.0   1945.0  \n",
       "170     27980.0     180.0  20510.0   1744.0  \n",
       "171     19794.0     132.0  11067.0   1742.0  \n",
       "172     22588.0     155.0  13451.0   1754.0  \n",
       "173     22189.0     153.0  15463.0   2104.0  "
      ]
     },
     "execution_count": 7,
     "metadata": {},
     "output_type": "execute_result"
    }
   ],
   "source": [
    "non_crisis = data_crime[~mask].copy()\n",
    "non_crisis.reset_index(inplace = True, drop = True)\n",
    "non_crisis.tail()"
   ]
  },
  {
   "cell_type": "code",
   "execution_count": 8,
   "metadata": {},
   "outputs": [
    {
     "data": {
      "image/png": "[encoded data removed]",
      "text/plain": [
       "<IPython.core.display.Image object>"
      ]
     },
     "execution_count": 8,
     "metadata": {},
     "output_type": "execute_result"
    }
   ],
   "source": [
    "Image('usd_2008_2009.png')"
   ]
  },
  {
   "cell_type": "code",
   "execution_count": 9,
   "metadata": {},
   "outputs": [
    {
     "data": {
      "image/png": "[encoded data removed]",
      "text/plain": [
       "<IPython.core.display.Image object>"
      ]
     },
     "execution_count": 9,
     "metadata": {},
     "output_type": "execute_result"
    }
   ],
   "source": [
    "Image('usd_2014_2016.png')"
   ]
  },
  {
   "cell_type": "markdown",
   "metadata": {},
   "source": [
    "Теперь необходимо найти среднее кочество преступлений в благополучное время и в кризис. Нулевая гипотеза будет утверждать, что различий между этими средними нет, а альтернативная гипотеза, что различия есть."
   ]
  },
  {
   "cell_type": "code",
   "execution_count": 10,
   "metadata": {},
   "outputs": [
    {
     "name": "stdout",
     "output_type": "stream",
     "text": [
      "Среднее количество преступлений в годы кризиса - 219811.2258064516\n",
      "Дисперсия - 1169884958.780645\n",
      "Количество измерений - 31\n"
     ]
    }
   ],
   "source": [
    "x_ = crisis.Total_crimes.mean()\n",
    "var_x = crisis.Total_crimes.var()\n",
    "n = crisis.month.count()\n",
    "\n",
    "print(f'Среднее количество преступлений во время кризиса - {x_}\\n\\\n",
    "Дисперсия - {var_x}\\n\\\n",
    "Количество измерений - {n}')"
   ]
  },
  {
   "cell_type": "code",
   "execution_count": 11,
   "metadata": {},
   "outputs": [
    {
     "name": "stdout",
     "output_type": "stream",
     "text": [
      "Среднее количество преступлений в годы без кризиса - 221540.52298850575\n",
      "Дисперсия - 2951053815.002358\n",
      "Количество измерений - 174\n"
     ]
    }
   ],
   "source": [
    "y_ = non_crisis.Total_crimes.mean()\n",
    "var_y = non_crisis.Total_crimes.var()\n",
    "m = non_crisis.month.count()\n",
    "\n",
    "print(f'Среднее количество преступлений в нормальное время - {y_}\\n\\\n",
    "Дисперсия - {var_y}\\n\\\n",
    "Количество измерений - {m}')"
   ]
  },
  {
   "cell_type": "code",
   "execution_count": 12,
   "metadata": {},
   "outputs": [
    {
     "data": {
      "text/plain": [
       "-0.23382056412610921"
      ]
     },
     "execution_count": 12,
     "metadata": {},
     "output_type": "execute_result"
    }
   ],
   "source": [
    "z = (x_ - y_)/np.sqrt(var_x/n + var_y/m)\n",
    "z"
   ]
  },
  {
   "cell_type": "code",
   "execution_count": 13,
   "metadata": {},
   "outputs": [
    {
     "name": "stdout",
     "output_type": "stream",
     "text": [
      "Нулевая гипотеза принимается - среднее количество преступлений в месяц не зависит от кризиса\n"
     ]
    }
   ],
   "source": [
    "z_0475 = 2.05\n",
    "\n",
    "if abs(z) < z_0475:\n",
    "    print(f'Нулевая гипотеза принимается - среднее количество преступлений в месяц не зависит от кризиса')\n",
    "else:\n",
    "    print('Принимается альтернативная гипотеза - среднее количество преступлений в кризис не равно среднему количеству преступлений в нормальное время')"
   ]
  },
  {
   "cell_type": "markdown",
   "metadata": {},
   "source": [
    "Итак, первоначальное предположение, что среднее количество преступлений в месяцы кризиса не равно количеству преступлений в месяцы без кризиса не подтвердилось.  \n",
    "Посмотрим значения статистик первоначального датасета:"
   ]
  },
  {
   "cell_type": "code",
   "execution_count": 14,
   "metadata": {},
   "outputs": [
    {
     "data": {
      "text/html": [
       "<div>\n",
       "<style scoped>\n",
       "    .dataframe tbody tr th:only-of-type {\n",
       "        vertical-align: middle;\n",
       "    }\n",
       "\n",
       "    .dataframe tbody tr th {\n",
       "        vertical-align: top;\n",
       "    }\n",
       "\n",
       "    .dataframe thead th {\n",
       "        text-align: right;\n",
       "    }\n",
       "</style>\n",
       "<table border=\"1\" class=\"dataframe\">\n",
       "  <thead>\n",
       "    <tr style=\"text-align: right;\">\n",
       "      <th></th>\n",
       "      <th>Total_crimes</th>\n",
       "      <th>Serious</th>\n",
       "      <th>Huge_damage</th>\n",
       "      <th>Ecological</th>\n",
       "      <th>Terrorism</th>\n",
       "      <th>Extremism</th>\n",
       "      <th>Murder</th>\n",
       "      <th>Harm_to_health</th>\n",
       "      <th>Rape</th>\n",
       "      <th>Theft</th>\n",
       "      <th>Vehicle_theft</th>\n",
       "      <th>Fraud_scam</th>\n",
       "      <th>Hooligan</th>\n",
       "      <th>Drugs</th>\n",
       "      <th>Weapons</th>\n",
       "    </tr>\n",
       "  </thead>\n",
       "  <tbody>\n",
       "    <tr>\n",
       "      <th>count</th>\n",
       "      <td>205.000000</td>\n",
       "      <td>205.000000</td>\n",
       "      <td>205.000000</td>\n",
       "      <td>205.000000</td>\n",
       "      <td>205.000000</td>\n",
       "      <td>205.000000</td>\n",
       "      <td>205.000000</td>\n",
       "      <td>205.000000</td>\n",
       "      <td>205.000000</td>\n",
       "      <td>205.000000</td>\n",
       "      <td>205.000000</td>\n",
       "      <td>205.000000</td>\n",
       "      <td>205.000000</td>\n",
       "      <td>205.000000</td>\n",
       "      <td>205.000000</td>\n",
       "    </tr>\n",
       "    <tr>\n",
       "      <th>mean</th>\n",
       "      <td>221279.019512</td>\n",
       "      <td>59068.487805</td>\n",
       "      <td>38402.039024</td>\n",
       "      <td>2592.463415</td>\n",
       "      <td>197.839024</td>\n",
       "      <td>59.473171</td>\n",
       "      <td>1451.400000</td>\n",
       "      <td>3276.024390</td>\n",
       "      <td>463.580488</td>\n",
       "      <td>92647.560976</td>\n",
       "      <td>4101.414634</td>\n",
       "      <td>15277.834146</td>\n",
       "      <td>1457.648780</td>\n",
       "      <td>17644.356098</td>\n",
       "      <td>2525.019512</td>\n",
       "    </tr>\n",
       "    <tr>\n",
       "      <th>std</th>\n",
       "      <td>51720.759692</td>\n",
       "      <td>20501.515982</td>\n",
       "      <td>20755.286960</td>\n",
       "      <td>1028.101551</td>\n",
       "      <td>245.462645</td>\n",
       "      <td>42.070500</td>\n",
       "      <td>687.713793</td>\n",
       "      <td>1013.861819</td>\n",
       "      <td>188.413369</td>\n",
       "      <td>25376.346430</td>\n",
       "      <td>1565.682727</td>\n",
       "      <td>4114.474680</td>\n",
       "      <td>2560.889194</td>\n",
       "      <td>3068.123707</td>\n",
       "      <td>733.169890</td>\n",
       "    </tr>\n",
       "    <tr>\n",
       "      <th>min</th>\n",
       "      <td>137657.000000</td>\n",
       "      <td>15755.000000</td>\n",
       "      <td>7424.000000</td>\n",
       "      <td>1216.000000</td>\n",
       "      <td>12.000000</td>\n",
       "      <td>2.000000</td>\n",
       "      <td>534.000000</td>\n",
       "      <td>1467.000000</td>\n",
       "      <td>134.000000</td>\n",
       "      <td>50155.000000</td>\n",
       "      <td>1092.000000</td>\n",
       "      <td>5687.000000</td>\n",
       "      <td>132.000000</td>\n",
       "      <td>7275.000000</td>\n",
       "      <td>1637.000000</td>\n",
       "    </tr>\n",
       "    <tr>\n",
       "      <th>25%</th>\n",
       "      <td>180711.000000</td>\n",
       "      <td>42135.000000</td>\n",
       "      <td>21813.000000</td>\n",
       "      <td>1888.000000</td>\n",
       "      <td>57.000000</td>\n",
       "      <td>26.000000</td>\n",
       "      <td>932.000000</td>\n",
       "      <td>2479.000000</td>\n",
       "      <td>322.000000</td>\n",
       "      <td>72533.000000</td>\n",
       "      <td>2928.000000</td>\n",
       "      <td>12481.000000</td>\n",
       "      <td>261.000000</td>\n",
       "      <td>16006.000000</td>\n",
       "      <td>2029.000000</td>\n",
       "    </tr>\n",
       "    <tr>\n",
       "      <th>50%</th>\n",
       "      <td>207550.000000</td>\n",
       "      <td>51426.000000</td>\n",
       "      <td>26357.000000</td>\n",
       "      <td>2322.000000</td>\n",
       "      <td>103.000000</td>\n",
       "      <td>52.000000</td>\n",
       "      <td>1200.000000</td>\n",
       "      <td>3256.000000</td>\n",
       "      <td>419.000000</td>\n",
       "      <td>88095.000000</td>\n",
       "      <td>3923.000000</td>\n",
       "      <td>15303.000000</td>\n",
       "      <td>486.000000</td>\n",
       "      <td>17924.000000</td>\n",
       "      <td>2351.000000</td>\n",
       "    </tr>\n",
       "    <tr>\n",
       "      <th>75%</th>\n",
       "      <td>254352.000000</td>\n",
       "      <td>78407.000000</td>\n",
       "      <td>59282.000000</td>\n",
       "      <td>3034.000000</td>\n",
       "      <td>184.000000</td>\n",
       "      <td>87.000000</td>\n",
       "      <td>1975.000000</td>\n",
       "      <td>4152.000000</td>\n",
       "      <td>574.000000</td>\n",
       "      <td>107555.000000</td>\n",
       "      <td>5125.000000</td>\n",
       "      <td>18005.000000</td>\n",
       "      <td>1785.000000</td>\n",
       "      <td>19686.000000</td>\n",
       "      <td>2868.000000</td>\n",
       "    </tr>\n",
       "    <tr>\n",
       "      <th>max</th>\n",
       "      <td>359098.000000</td>\n",
       "      <td>108299.000000</td>\n",
       "      <td>87941.000000</td>\n",
       "      <td>6822.000000</td>\n",
       "      <td>1198.000000</td>\n",
       "      <td>174.000000</td>\n",
       "      <td>3099.000000</td>\n",
       "      <td>5578.000000</td>\n",
       "      <td>1027.000000</td>\n",
       "      <td>153394.000000</td>\n",
       "      <td>8251.000000</td>\n",
       "      <td>27980.000000</td>\n",
       "      <td>12636.000000</td>\n",
       "      <td>25187.000000</td>\n",
       "      <td>5938.000000</td>\n",
       "    </tr>\n",
       "  </tbody>\n",
       "</table>\n",
       "</div>"
      ],
      "text/plain": [
       "        Total_crimes        Serious   Huge_damage   Ecological    Terrorism  \\\n",
       "count     205.000000     205.000000    205.000000   205.000000   205.000000   \n",
       "mean   221279.019512   59068.487805  38402.039024  2592.463415   197.839024   \n",
       "std     51720.759692   20501.515982  20755.286960  1028.101551   245.462645   \n",
       "min    137657.000000   15755.000000   7424.000000  1216.000000    12.000000   \n",
       "25%    180711.000000   42135.000000  21813.000000  1888.000000    57.000000   \n",
       "50%    207550.000000   51426.000000  26357.000000  2322.000000   103.000000   \n",
       "75%    254352.000000   78407.000000  59282.000000  3034.000000   184.000000   \n",
       "max    359098.000000  108299.000000  87941.000000  6822.000000  1198.000000   \n",
       "\n",
       "        Extremism       Murder  Harm_to_health         Rape          Theft  \\\n",
       "count  205.000000   205.000000      205.000000   205.000000     205.000000   \n",
       "mean    59.473171  1451.400000     3276.024390   463.580488   92647.560976   \n",
       "std     42.070500   687.713793     1013.861819   188.413369   25376.346430   \n",
       "min      2.000000   534.000000     1467.000000   134.000000   50155.000000   \n",
       "25%     26.000000   932.000000     2479.000000   322.000000   72533.000000   \n",
       "50%     52.000000  1200.000000     3256.000000   419.000000   88095.000000   \n",
       "75%     87.000000  1975.000000     4152.000000   574.000000  107555.000000   \n",
       "max    174.000000  3099.000000     5578.000000  1027.000000  153394.000000   \n",
       "\n",
       "       Vehicle_theft    Fraud_scam      Hooligan         Drugs      Weapons  \n",
       "count     205.000000    205.000000    205.000000    205.000000   205.000000  \n",
       "mean     4101.414634  15277.834146   1457.648780  17644.356098  2525.019512  \n",
       "std      1565.682727   4114.474680   2560.889194   3068.123707   733.169890  \n",
       "min      1092.000000   5687.000000    132.000000   7275.000000  1637.000000  \n",
       "25%      2928.000000  12481.000000    261.000000  16006.000000  2029.000000  \n",
       "50%      3923.000000  15303.000000    486.000000  17924.000000  2351.000000  \n",
       "75%      5125.000000  18005.000000   1785.000000  19686.000000  2868.000000  \n",
       "max      8251.000000  27980.000000  12636.000000  25187.000000  5938.000000  "
      ]
     },
     "execution_count": 14,
     "metadata": {},
     "output_type": "execute_result"
    }
   ],
   "source": [
    "data_crime.describe()"
   ]
  },
  {
   "cell_type": "markdown",
   "metadata": {},
   "source": [
    "Из таблицы выше видно, что в столбце терроризм std (стандартное отклонение) превышает значение среднего.  \n",
    "Проверим гипотезу, что в кризис финансирование терроризма уменьшается, и как следствие, уменьшается количество преступлений такого характера."
   ]
  },
  {
   "cell_type": "code",
   "execution_count": 15,
   "metadata": {},
   "outputs": [
    {
     "name": "stdout",
     "output_type": "stream",
     "text": [
      "Среднее количество преступлений в годы кризиса - 113.70967741935483\n",
      "Дисперсия - 4767.079569892475\n",
      "Количество измерений - 31\n"
     ]
    }
   ],
   "source": [
    "x_ = crisis.Terrorism.mean()\n",
    "var_x = crisis.Terrorism.var()\n",
    "n = crisis.month.count()\n",
    "\n",
    "print(f'Среднее количество преступлений во время кризиса - {x_}\\n\\\n",
    "Дисперсия - {var_x}\\n\\\n",
    "Количество измерений - {n}')"
   ]
  },
  {
   "cell_type": "code",
   "execution_count": 20,
   "metadata": {},
   "outputs": [
    {
     "name": "stdout",
     "output_type": "stream",
     "text": [
      "Среднее количество преступлений в нормальное время - 212.82758620689654\n",
      "Дисперсия - 68727.61172015152\n",
      "Количество измерений - 174\n"
     ]
    }
   ],
   "source": [
    "y_ = non_crisis.Terrorism.mean()\n",
    "var_y = non_crisis.Terrorism.var()\n",
    "m = non_crisis.month.count()\n",
    "\n",
    "print(f'Среднее количество преступлений в нормальное время - {y_}\\n\\\n",
    "Дисперсия - {var_y}\\n\\\n",
    "Количество измерений - {m}')"
   ]
  },
  {
   "cell_type": "code",
   "execution_count": 17,
   "metadata": {},
   "outputs": [
    {
     "data": {
      "text/plain": [
       "-4.231162511251688"
      ]
     },
     "execution_count": 17,
     "metadata": {},
     "output_type": "execute_result"
    }
   ],
   "source": [
    "z = (x_ - y_)/np.sqrt(var_x/n + var_y/m)\n",
    "z"
   ]
  },
  {
   "cell_type": "code",
   "execution_count": 21,
   "metadata": {},
   "outputs": [
    {
     "name": "stdout",
     "output_type": "stream",
     "text": [
      "Принимается альтернативная гипотеза - среднее количество террористических преступлений в кризис меньше среднего количества преступлений в нормальное время\n"
     ]
    }
   ],
   "source": [
    "z_045 = -1.64\n",
    "\n",
    "if z > z_045:\n",
    "    print(f'Нулевая гипотеза принимается - среднее количество террористических преступлений в месяц не зависит от кризиса')\n",
    "else:\n",
    "    print('Принимается альтернативная гипотеза - среднее количество террористических преступлений в кризис меньше среднего количества преступлений в нормальное время')"
   ]
  }
 ],
 "metadata": {
  "kernelspec": {
   "display_name": "Python 3",
   "language": "python",
   "name": "python3"
  },
  "language_info": {
   "codemirror_mode": {
    "name": "ipython",
    "version": 3
   },
   "file_extension": ".py",
   "mimetype": "text/x-python",
   "name": "python",
   "nbconvert_exporter": "python",
   "pygments_lexer": "ipython3",
   "version": "3.8.3"
  }
 },
 "nbformat": 4,
 "nbformat_minor": 4
}
