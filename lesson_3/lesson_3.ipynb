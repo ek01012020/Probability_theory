{
 "cells": [
  {
   "cell_type": "code",
   "execution_count": 1,
   "metadata": {},
   "outputs": [],
   "source": [
    "from math import factorial, sqrt\n",
    "from IPython.display import Image"
   ]
  },
  {
   "cell_type": "code",
   "execution_count": 2,
   "metadata": {},
   "outputs": [],
   "source": [
    "def c(n, k):\n",
    "    return factorial(n)/factorial(k)/factorial(n-k)"
   ]
  },
  {
   "cell_type": "markdown",
   "metadata": {},
   "source": [
    "## Задание 1"
   ]
  },
  {
   "cell_type": "markdown",
   "metadata": {},
   "source": [
    "Даны значения зарплат из выборки выпускников: 100, 80, 75, 77, 89, 33, 45, 25, 65, 17, 30, 24, 57, 55, 70, 75, 65, 84, 90, 150. Посчитать (желательно без использования статистических методов наподобие std, var, mean) среднее арифметическое, среднее квадратичное отклонение, смещенную и несмещенную оценки дисперсий для данной выборки."
   ]
  },
  {
   "cell_type": "code",
   "execution_count": 3,
   "metadata": {},
   "outputs": [
    {
     "data": {
      "text/plain": [
       "[100,\n",
       " 80,\n",
       " 75,\n",
       " 77,\n",
       " 89,\n",
       " 33,\n",
       " 45,\n",
       " 25,\n",
       " 65,\n",
       " 17,\n",
       " 30,\n",
       " 24,\n",
       " 57,\n",
       " 55,\n",
       " 70,\n",
       " 75,\n",
       " 65,\n",
       " 84,\n",
       " 90,\n",
       " 150]"
      ]
     },
     "execution_count": 3,
     "metadata": {},
     "output_type": "execute_result"
    }
   ],
   "source": [
    "salary = list(map(int, '100, 80, 75, 77, 89, 33, 45, 25, 65, 17, 30, 24, 57, 55, 70, 75, 65, 84, 90, 150'.split(',')))\n",
    "salary"
   ]
  },
  {
   "cell_type": "code",
   "execution_count": 4,
   "metadata": {},
   "outputs": [
    {
     "name": "stdout",
     "output_type": "stream",
     "text": [
      "Среднее арифметическое - 65.3\n",
      "Среднее квадратичное отклонение - 30.823854398825596\n",
      "Смещенная оценка дисперсии - 950.11\n",
      "Несмещенная оценка дисперсии - 1000.1157894736842\n"
     ]
    }
   ],
   "source": [
    "mean = sum(salary)/len(salary)\n",
    "std = sqrt(sum([(el - mean)**2 for el in salary])/len(salary))\n",
    "var = sum([(el - mean)**2 for el in salary])/len(salary)\n",
    "var_ = sum([(el - mean)**2 for el in salary])/(len(salary)-1)\n",
    "print(f'Среднее арифметическое - {mean}\\n\\\n",
    "Среднее квадратичное отклонение - {std}\\n\\\n",
    "Смещенная оценка дисперсии - {var}\\n\\\n",
    "Несмещенная оценка дисперсии - {var_}')"
   ]
  },
  {
   "cell_type": "markdown",
   "metadata": {},
   "source": [
    "## Задание 2"
   ]
  },
  {
   "cell_type": "markdown",
   "metadata": {},
   "source": [
    "В первом ящике находится 8 мячей, из которых 5 - белые. Во втором ящике - 12 мячей, из которых 5 белых. Из первого ящика вытаскивают случайным образом два мяча, из второго - 4. Какова вероятность того, что 3 мяча белые?"
   ]
  },
  {
   "cell_type": "code",
   "execution_count": 5,
   "metadata": {},
   "outputs": [
    {
     "data": {
      "image/png": "[encoded data removed]",
      "text/plain": [
       "<IPython.core.display.Image object>"
      ]
     },
     "execution_count": 5,
     "metadata": {},
     "output_type": "execute_result"
    }
   ],
   "source": [
    "Image('task_3_2.png')"
   ]
  },
  {
   "cell_type": "code",
   "execution_count": 6,
   "metadata": {},
   "outputs": [
    {
     "data": {
      "text/plain": [
       "0.3686868686868686"
      ]
     },
     "execution_count": 6,
     "metadata": {},
     "output_type": "execute_result"
    }
   ],
   "source": [
    "sum([c(5, i)*c(3, 2 - i)/c(8, 2)*c(5, 3 - i)*c(7, 1 + i)/c(12, 4) for i in range(3)])"
   ]
  },
  {
   "cell_type": "markdown",
   "metadata": {},
   "source": [
    "## Задание 3"
   ]
  },
  {
   "cell_type": "markdown",
   "metadata": {},
   "source": [
    "В университет на факультеты A и B поступило равное количество студентов, а на факультет C студентов поступило столько же, сколько на A и B вместе. Вероятность того, что студент факультета A сдаст первую сессию, равна 0.8. Для студента факультета B эта вероятность равна 0.7, а для студента факультета C - 0.9. Студент сдал первую сессию. Какова вероятность, что он учится:  \n",
    "a). на факультете A  \n",
    "б). на факультете B  \n",
    "в). на факультете C?"
   ]
  },
  {
   "cell_type": "markdown",
   "metadata": {},
   "source": [
    "Так как количество студентов на факультетах А и В одинаковое и на факультете С в 2 раза юольше учащихся, чем на А или В, то вероятность того, что студент учится на факультете А, В или С равны соответственно - 1/4, 1/4 и 1/2.  \n",
    "Для начала найдем вероятность того, что студент сдаст сессию:"
   ]
  },
  {
   "cell_type": "code",
   "execution_count": 7,
   "metadata": {},
   "outputs": [
    {
     "data": {
      "text/plain": [
       "0.825"
      ]
     },
     "execution_count": 7,
     "metadata": {},
     "output_type": "execute_result"
    }
   ],
   "source": [
    "pa = 0.8\n",
    "pb = 0.7\n",
    "pc = 0.9\n",
    "pabc = 1/4*pa + 1/4*pb + 1/2*pc\n",
    "pabc"
   ]
  },
  {
   "cell_type": "code",
   "execution_count": 8,
   "metadata": {},
   "outputs": [
    {
     "name": "stdout",
     "output_type": "stream",
     "text": [
      "Студент сдал первую сессию. Вероятность, что он учится на факультете \n",
      "А - 0.24242424242424246\n",
      "В - 0.21212121212121213\n",
      "С - 0.5454545454545455\n"
     ]
    }
   ],
   "source": [
    "print(f'Студент сдал первую сессию. Вероятность, что он учится на факультете \\n\\\n",
    "А - {1/4*pa/pabc}\\n\\\n",
    "В - {1/4*pb/pabc}\\n\\\n",
    "С - {1/2*pc/pabc}')"
   ]
  },
  {
   "cell_type": "code",
   "execution_count": 9,
   "metadata": {},
   "outputs": [
    {
     "data": {
      "image/png": "[encoded data removed]",
      "text/plain": [
       "<IPython.core.display.Image object>"
      ]
     },
     "execution_count": 9,
     "metadata": {},
     "output_type": "execute_result"
    }
   ],
   "source": [
    "Image('task_3_3.png')"
   ]
  },
  {
   "cell_type": "markdown",
   "metadata": {},
   "source": [
    "## Задание 4"
   ]
  },
  {
   "cell_type": "markdown",
   "metadata": {},
   "source": [
    "Устройство состоит из трех деталей. Для первой детали вероятность выйти из строя в первый месяц равна 0.1, для второй - 0.2, для третьей - 0.25. Какова вероятность того, что в первый месяц выйдут из строя:  \n",
    "    а). все детали  \n",
    "    б). только две детали  \n",
    "    в). хотя бы одна деталь  \n",
    "    г). от одной до двух деталей?"
   ]
  },
  {
   "cell_type": "code",
   "execution_count": 10,
   "metadata": {},
   "outputs": [
    {
     "name": "stdout",
     "output_type": "stream",
     "text": [
      "Вероятность того, что сломаются три детали Р=0.005\n",
      "Вероятность того, что сломаются только две детали Р=0.08\n",
      "Вероятность того, что сломается хотя бы одна деталь Р=0.46\n",
      "Вероятность того, что сломается от одной до двух деталей Р=0.455\n"
     ]
    }
   ],
   "source": [
    "p1 = 0.1\n",
    "p2 = 0.2\n",
    "p3 = 0.25\n",
    "print(f'Вероятность того, что сломаются три детали Р={round(p1*p2*p3, 3)}\\n\\\n",
    "Вероятность того, что сломаются только две детали Р={round(p1*p2*(1-p3) + p1*p3*(1-p2) + p2*p3*(1-p1), 3)}\\n\\\n",
    "Вероятность того, что сломается хотя бы одна деталь Р={round(1 - (1-p1)*(1-p2)*(1-p3), 3)}\\n\\\n",
    "Вероятность того, что сломается от одной до двух деталей Р={round(1 - (1-p1)*(1-p2)*(1-p3) - p1*p2*p3, 3)}')"
   ]
  }
 ],
 "metadata": {
  "kernelspec": {
   "display_name": "Python 3",
   "language": "python",
   "name": "python3"
  },
  "language_info": {
   "codemirror_mode": {
    "name": "ipython",
    "version": 3
   },
   "file_extension": ".py",
   "mimetype": "text/x-python",
   "name": "python",
   "nbconvert_exporter": "python",
   "pygments_lexer": "ipython3",
   "version": "3.8.3"
  }
 },
 "nbformat": 4,
 "nbformat_minor": 4
}
